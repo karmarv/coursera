{
 "cells": [
  {
   "cell_type": "code",
   "execution_count": 20,
   "metadata": {
    "collapsed": true
   },
   "outputs": [],
   "source": [
    "import pandas as pd\n",
    "import datetime as dt\n",
    "from pyspark.mllib.clustering import KMeans, KMeansModel\n",
    "from numpy import array"
   ]
  },
  {
   "cell_type": "markdown",
   "metadata": {},
   "source": [
    "<div style=\"color:black;font-family: Arial; font-size:1.1em;line-height:65%\">\n",
    "<h1 style=\"font-family: Arial; font-size:1.5em;color:#2462C0\">Step 1: Attribute Selection</h1>\n",
    "</div>"
   ]
  },
  {
   "cell_type": "code",
   "execution_count": 21,
   "metadata": {
    "collapsed": false
   },
   "outputs": [
    {
     "data": {
      "text/plain": [
       "pandas.tslib.Timestamp"
      ]
     },
     "execution_count": 21,
     "metadata": {},
     "output_type": "execute_result"
    }
   ],
   "source": [
    "adclicksDF = pd.read_csv('./flamingo-data/ad-clicks.csv', infer_datetime_format=True)\n",
    "adclicksDF = adclicksDF.rename(columns=lambda x: x.strip()) #remove whitespaces from headers\n",
    "adclicksDF.timestamp = pd.to_datetime(adclicksDF.timestamp)\n",
    "adclicksDF['ad_hour'] = adclicksDF.timestamp.dt.hour\n",
    "type(adclicksDF['timestamp'].iloc[0])"
   ]
  },
  {
   "cell_type": "code",
   "execution_count": 22,
   "metadata": {
    "collapsed": false
   },
   "outputs": [
    {
     "data": {
      "text/html": [
       "<div>\n",
       "<table border=\"1\" class=\"dataframe\">\n",
       "  <thead>\n",
       "    <tr style=\"text-align: right;\">\n",
       "      <th></th>\n",
       "      <th>timestamp</th>\n",
       "      <th>txId</th>\n",
       "      <th>userSessionId</th>\n",
       "      <th>teamId</th>\n",
       "      <th>userId</th>\n",
       "      <th>adId</th>\n",
       "      <th>adCategory</th>\n",
       "      <th>ad_hour</th>\n",
       "    </tr>\n",
       "  </thead>\n",
       "  <tbody>\n",
       "    <tr>\n",
       "      <th>0</th>\n",
       "      <td>2016-05-26 15:13:22</td>\n",
       "      <td>5974</td>\n",
       "      <td>5809</td>\n",
       "      <td>27</td>\n",
       "      <td>611</td>\n",
       "      <td>2</td>\n",
       "      <td>electronics</td>\n",
       "      <td>15</td>\n",
       "    </tr>\n",
       "    <tr>\n",
       "      <th>1</th>\n",
       "      <td>2016-05-26 15:17:24</td>\n",
       "      <td>5976</td>\n",
       "      <td>5705</td>\n",
       "      <td>18</td>\n",
       "      <td>1874</td>\n",
       "      <td>21</td>\n",
       "      <td>movies</td>\n",
       "      <td>15</td>\n",
       "    </tr>\n",
       "    <tr>\n",
       "      <th>2</th>\n",
       "      <td>2016-05-26 15:22:52</td>\n",
       "      <td>5978</td>\n",
       "      <td>5791</td>\n",
       "      <td>53</td>\n",
       "      <td>2139</td>\n",
       "      <td>25</td>\n",
       "      <td>computers</td>\n",
       "      <td>15</td>\n",
       "    </tr>\n",
       "    <tr>\n",
       "      <th>3</th>\n",
       "      <td>2016-05-26 15:22:57</td>\n",
       "      <td>5973</td>\n",
       "      <td>5756</td>\n",
       "      <td>63</td>\n",
       "      <td>212</td>\n",
       "      <td>10</td>\n",
       "      <td>fashion</td>\n",
       "      <td>15</td>\n",
       "    </tr>\n",
       "    <tr>\n",
       "      <th>4</th>\n",
       "      <td>2016-05-26 15:22:58</td>\n",
       "      <td>5980</td>\n",
       "      <td>5920</td>\n",
       "      <td>9</td>\n",
       "      <td>1027</td>\n",
       "      <td>20</td>\n",
       "      <td>clothing</td>\n",
       "      <td>15</td>\n",
       "    </tr>\n",
       "  </tbody>\n",
       "</table>\n",
       "</div>"
      ],
      "text/plain": [
       "            timestamp  txId  userSessionId  teamId  userId  adId   adCategory  \\\n",
       "0 2016-05-26 15:13:22  5974           5809      27     611     2  electronics   \n",
       "1 2016-05-26 15:17:24  5976           5705      18    1874    21       movies   \n",
       "2 2016-05-26 15:22:52  5978           5791      53    2139    25    computers   \n",
       "3 2016-05-26 15:22:57  5973           5756      63     212    10      fashion   \n",
       "4 2016-05-26 15:22:58  5980           5920       9    1027    20     clothing   \n",
       "\n",
       "   ad_hour  \n",
       "0       15  \n",
       "1       15  \n",
       "2       15  \n",
       "3       15  \n",
       "4       15  "
      ]
     },
     "execution_count": 22,
     "metadata": {},
     "output_type": "execute_result"
    }
   ],
   "source": [
    "adclicksDF.head(n=5)"
   ]
  },
  {
   "cell_type": "code",
   "execution_count": 23,
   "metadata": {
    "collapsed": true
   },
   "outputs": [],
   "source": [
    "adclicksDF['adCount'] = 1"
   ]
  },
  {
   "cell_type": "code",
   "execution_count": 24,
   "metadata": {
    "collapsed": false
   },
   "outputs": [],
   "source": [
    "buyclicksDF = pd.read_csv('./flamingo-data/buy-clicks.csv')\n",
    "buyclicksDF = buyclicksDF.rename(columns=lambda x: x.strip()) #removes whitespaces from headers\n",
    "buyclicksDF.timestamp = pd.to_datetime(buyclicksDF.timestamp)\n",
    "buyclicksDF['buy_hour'] = buyclicksDF.timestamp.dt.hour"
   ]
  },
  {
   "cell_type": "code",
   "execution_count": 25,
   "metadata": {
    "collapsed": false
   },
   "outputs": [
    {
     "data": {
      "text/html": [
       "<div>\n",
       "<table border=\"1\" class=\"dataframe\">\n",
       "  <thead>\n",
       "    <tr style=\"text-align: right;\">\n",
       "      <th></th>\n",
       "      <th>timestamp</th>\n",
       "      <th>txId</th>\n",
       "      <th>userSessionId</th>\n",
       "      <th>team</th>\n",
       "      <th>userId</th>\n",
       "      <th>buyId</th>\n",
       "      <th>price</th>\n",
       "      <th>buy_hour</th>\n",
       "    </tr>\n",
       "  </thead>\n",
       "  <tbody>\n",
       "    <tr>\n",
       "      <th>0</th>\n",
       "      <td>2016-05-26 15:36:54</td>\n",
       "      <td>6004</td>\n",
       "      <td>5820</td>\n",
       "      <td>9</td>\n",
       "      <td>1300</td>\n",
       "      <td>2</td>\n",
       "      <td>3.0</td>\n",
       "      <td>15</td>\n",
       "    </tr>\n",
       "    <tr>\n",
       "      <th>1</th>\n",
       "      <td>2016-05-26 15:36:54</td>\n",
       "      <td>6005</td>\n",
       "      <td>5775</td>\n",
       "      <td>35</td>\n",
       "      <td>868</td>\n",
       "      <td>4</td>\n",
       "      <td>10.0</td>\n",
       "      <td>15</td>\n",
       "    </tr>\n",
       "    <tr>\n",
       "      <th>2</th>\n",
       "      <td>2016-05-26 15:36:54</td>\n",
       "      <td>6006</td>\n",
       "      <td>5679</td>\n",
       "      <td>97</td>\n",
       "      <td>819</td>\n",
       "      <td>5</td>\n",
       "      <td>20.0</td>\n",
       "      <td>15</td>\n",
       "    </tr>\n",
       "    <tr>\n",
       "      <th>3</th>\n",
       "      <td>2016-05-26 16:36:54</td>\n",
       "      <td>6067</td>\n",
       "      <td>5665</td>\n",
       "      <td>18</td>\n",
       "      <td>121</td>\n",
       "      <td>2</td>\n",
       "      <td>3.0</td>\n",
       "      <td>16</td>\n",
       "    </tr>\n",
       "    <tr>\n",
       "      <th>4</th>\n",
       "      <td>2016-05-26 17:06:54</td>\n",
       "      <td>6093</td>\n",
       "      <td>5709</td>\n",
       "      <td>11</td>\n",
       "      <td>2222</td>\n",
       "      <td>5</td>\n",
       "      <td>20.0</td>\n",
       "      <td>17</td>\n",
       "    </tr>\n",
       "  </tbody>\n",
       "</table>\n",
       "</div>"
      ],
      "text/plain": [
       "            timestamp  txId  userSessionId  team  userId  buyId  price  \\\n",
       "0 2016-05-26 15:36:54  6004           5820     9    1300      2    3.0   \n",
       "1 2016-05-26 15:36:54  6005           5775    35     868      4   10.0   \n",
       "2 2016-05-26 15:36:54  6006           5679    97     819      5   20.0   \n",
       "3 2016-05-26 16:36:54  6067           5665    18     121      2    3.0   \n",
       "4 2016-05-26 17:06:54  6093           5709    11    2222      5   20.0   \n",
       "\n",
       "   buy_hour  \n",
       "0        15  \n",
       "1        15  \n",
       "2        15  \n",
       "3        16  \n",
       "4        17  "
      ]
     },
     "execution_count": 25,
     "metadata": {},
     "output_type": "execute_result"
    }
   ],
   "source": [
    "buyclicksDF.head(n=5)"
   ]
  },
  {
   "cell_type": "code",
   "execution_count": 26,
   "metadata": {
    "collapsed": true
   },
   "outputs": [],
   "source": [
    "hitclicksDF = pd.read_csv('./flamingo-data/game-clicks.csv')\n",
    "hitclicksDF = hitclicksDF.rename(columns=lambda x: x.strip())\n",
    "hitclicksDF.timestamp = pd.to_datetime(hitclicksDF.timestamp)\n",
    "hitclicksDF['hit_hour'] = hitclicksDF.timestamp.dt.hour"
   ]
  },
  {
   "cell_type": "code",
   "execution_count": 27,
   "metadata": {
    "collapsed": false
   },
   "outputs": [
    {
     "data": {
      "text/html": [
       "<div>\n",
       "<table border=\"1\" class=\"dataframe\">\n",
       "  <thead>\n",
       "    <tr style=\"text-align: right;\">\n",
       "      <th></th>\n",
       "      <th>timestamp</th>\n",
       "      <th>clickId</th>\n",
       "      <th>userId</th>\n",
       "      <th>userSessionId</th>\n",
       "      <th>isHit</th>\n",
       "      <th>teamId</th>\n",
       "      <th>teamLevel</th>\n",
       "      <th>hit_hour</th>\n",
       "    </tr>\n",
       "  </thead>\n",
       "  <tbody>\n",
       "    <tr>\n",
       "      <th>0</th>\n",
       "      <td>2016-05-26 15:06:55</td>\n",
       "      <td>105</td>\n",
       "      <td>1038</td>\n",
       "      <td>5916</td>\n",
       "      <td>0</td>\n",
       "      <td>25</td>\n",
       "      <td>1</td>\n",
       "      <td>15</td>\n",
       "    </tr>\n",
       "    <tr>\n",
       "      <th>1</th>\n",
       "      <td>2016-05-26 15:07:09</td>\n",
       "      <td>154</td>\n",
       "      <td>1099</td>\n",
       "      <td>5898</td>\n",
       "      <td>0</td>\n",
       "      <td>44</td>\n",
       "      <td>1</td>\n",
       "      <td>15</td>\n",
       "    </tr>\n",
       "    <tr>\n",
       "      <th>2</th>\n",
       "      <td>2016-05-26 15:07:14</td>\n",
       "      <td>229</td>\n",
       "      <td>899</td>\n",
       "      <td>5757</td>\n",
       "      <td>0</td>\n",
       "      <td>71</td>\n",
       "      <td>1</td>\n",
       "      <td>15</td>\n",
       "    </tr>\n",
       "    <tr>\n",
       "      <th>3</th>\n",
       "      <td>2016-05-26 15:07:14</td>\n",
       "      <td>322</td>\n",
       "      <td>2197</td>\n",
       "      <td>5854</td>\n",
       "      <td>0</td>\n",
       "      <td>99</td>\n",
       "      <td>1</td>\n",
       "      <td>15</td>\n",
       "    </tr>\n",
       "    <tr>\n",
       "      <th>4</th>\n",
       "      <td>2016-05-26 15:07:20</td>\n",
       "      <td>22</td>\n",
       "      <td>1362</td>\n",
       "      <td>5739</td>\n",
       "      <td>0</td>\n",
       "      <td>13</td>\n",
       "      <td>1</td>\n",
       "      <td>15</td>\n",
       "    </tr>\n",
       "  </tbody>\n",
       "</table>\n",
       "</div>"
      ],
      "text/plain": [
       "            timestamp  clickId  userId  userSessionId  isHit  teamId  \\\n",
       "0 2016-05-26 15:06:55      105    1038           5916      0      25   \n",
       "1 2016-05-26 15:07:09      154    1099           5898      0      44   \n",
       "2 2016-05-26 15:07:14      229     899           5757      0      71   \n",
       "3 2016-05-26 15:07:14      322    2197           5854      0      99   \n",
       "4 2016-05-26 15:07:20       22    1362           5739      0      13   \n",
       "\n",
       "   teamLevel  hit_hour  \n",
       "0          1        15  \n",
       "1          1        15  \n",
       "2          1        15  \n",
       "3          1        15  \n",
       "4          1        15  "
      ]
     },
     "execution_count": 27,
     "metadata": {},
     "output_type": "execute_result"
    }
   ],
   "source": [
    "hitclicksDF.head(n=5)"
   ]
  },
  {
   "cell_type": "markdown",
   "metadata": {},
   "source": [
    "<h1 style=\"font-family: Arial; font-size:1.5em;color:#2462C0\">Feature Selection</h1>"
   ]
  },
  {
   "cell_type": "code",
   "execution_count": 46,
   "metadata": {
    "collapsed": false
   },
   "outputs": [
    {
     "data": {
      "text/html": [
       "<div>\n",
       "<table border=\"1\" class=\"dataframe\">\n",
       "  <thead>\n",
       "    <tr style=\"text-align: right;\">\n",
       "      <th></th>\n",
       "      <th>userId</th>\n",
       "      <th>buy_hour</th>\n",
       "      <th>price</th>\n",
       "    </tr>\n",
       "  </thead>\n",
       "  <tbody>\n",
       "    <tr>\n",
       "      <th>0</th>\n",
       "      <td>1</td>\n",
       "      <td>6.333333</td>\n",
       "      <td>21.0</td>\n",
       "    </tr>\n",
       "    <tr>\n",
       "      <th>1</th>\n",
       "      <td>8</td>\n",
       "      <td>12.800000</td>\n",
       "      <td>53.0</td>\n",
       "    </tr>\n",
       "  </tbody>\n",
       "</table>\n",
       "</div>"
      ],
      "text/plain": [
       "   userId   buy_hour  price\n",
       "0       1   6.333333   21.0\n",
       "1       8  12.800000   53.0"
      ]
     },
     "execution_count": 46,
     "metadata": {},
     "output_type": "execute_result"
    }
   ],
   "source": [
    "userTimePurchases = buyclicksDF[['userId', 'price', 'buy_hour']] #select only userid and price\n",
    "userTimePurchases.head(n=5)\n",
    "buyPerUser = userTimePurchases.groupby('userId').agg({'price':'sum', 'buy_hour':'mean'}).reset_index()\n",
    "buyPerUser.head(n=2)"
   ]
  },
  {
   "cell_type": "code",
   "execution_count": 47,
   "metadata": {
    "collapsed": false
   },
   "outputs": [
    {
     "data": {
      "text/html": [
       "<div>\n",
       "<table border=\"1\" class=\"dataframe\">\n",
       "  <thead>\n",
       "    <tr style=\"text-align: right;\">\n",
       "      <th></th>\n",
       "      <th>userId</th>\n",
       "      <th>adCount</th>\n",
       "      <th>ad_hour</th>\n",
       "    </tr>\n",
       "  </thead>\n",
       "  <tbody>\n",
       "    <tr>\n",
       "      <th>0</th>\n",
       "      <td>1</td>\n",
       "      <td>44</td>\n",
       "      <td>12.727273</td>\n",
       "    </tr>\n",
       "    <tr>\n",
       "      <th>1</th>\n",
       "      <td>8</td>\n",
       "      <td>10</td>\n",
       "      <td>11.700000</td>\n",
       "    </tr>\n",
       "  </tbody>\n",
       "</table>\n",
       "</div>"
      ],
      "text/plain": [
       "   userId  adCount    ad_hour\n",
       "0       1       44  12.727273\n",
       "1       8       10  11.700000"
      ]
     },
     "execution_count": 47,
     "metadata": {},
     "output_type": "execute_result"
    }
   ],
   "source": [
    "userTimeadClicks = adclicksDF[['userId', 'adCount', 'ad_hour']]\n",
    "adsPerUser = userTimeadClicks.groupby('userId').agg({'adCount':'sum', 'ad_hour':'mean'}).reset_index()\n",
    "adsPerUser.head(n=2)"
   ]
  },
  {
   "cell_type": "code",
   "execution_count": 48,
   "metadata": {
    "collapsed": false
   },
   "outputs": [
    {
     "data": {
      "text/html": [
       "<div>\n",
       "<table border=\"1\" class=\"dataframe\">\n",
       "  <thead>\n",
       "    <tr style=\"text-align: right;\">\n",
       "      <th></th>\n",
       "      <th>userId</th>\n",
       "      <th>hit_hour</th>\n",
       "      <th>isHit</th>\n",
       "    </tr>\n",
       "  </thead>\n",
       "  <tbody>\n",
       "    <tr>\n",
       "      <th>0</th>\n",
       "      <td>0</td>\n",
       "      <td>11.552768</td>\n",
       "      <td>0.105535</td>\n",
       "    </tr>\n",
       "    <tr>\n",
       "      <th>1</th>\n",
       "      <td>1</td>\n",
       "      <td>11.627095</td>\n",
       "      <td>0.134078</td>\n",
       "    </tr>\n",
       "  </tbody>\n",
       "</table>\n",
       "</div>"
      ],
      "text/plain": [
       "   userId   hit_hour     isHit\n",
       "0       0  11.552768  0.105535\n",
       "1       1  11.627095  0.134078"
      ]
     },
     "execution_count": 48,
     "metadata": {},
     "output_type": "execute_result"
    }
   ],
   "source": [
    "userTimeHits = hitclicksDF[['userId', 'isHit', 'hit_hour']]\n",
    "hitsPerUser = userTimeHits.groupby('userId').agg({'isHit':'mean', 'hit_hour':'mean'}).reset_index()\n",
    "hitsPerUser.head(n=2)"
   ]
  },
  {
   "cell_type": "markdown",
   "metadata": {},
   "source": [
    "## Merge"
   ]
  },
  {
   "cell_type": "code",
   "execution_count": 49,
   "metadata": {
    "collapsed": false
   },
   "outputs": [],
   "source": [
    "adBuyDF = adsPerUser.merge(buyPerUser, on='userId') #userId, adCount, price"
   ]
  },
  {
   "cell_type": "code",
   "execution_count": 50,
   "metadata": {
    "collapsed": true
   },
   "outputs": [],
   "source": [
    "adBuyHitDF = adBuyDF.merge(hitsPerUser, on='userId') #userId, adCount, price, ishit, hours"
   ]
  },
  {
   "cell_type": "code",
   "execution_count": 56,
   "metadata": {
    "collapsed": false
   },
   "outputs": [
    {
     "data": {
      "text/html": [
       "<div>\n",
       "<table border=\"1\" class=\"dataframe\">\n",
       "  <thead>\n",
       "    <tr style=\"text-align: right;\">\n",
       "      <th></th>\n",
       "      <th>userId</th>\n",
       "      <th>adCount</th>\n",
       "      <th>ad_hour</th>\n",
       "      <th>buy_hour</th>\n",
       "      <th>price</th>\n",
       "      <th>hit_hour</th>\n",
       "      <th>isHit</th>\n",
       "    </tr>\n",
       "  </thead>\n",
       "  <tbody>\n",
       "    <tr>\n",
       "      <th>0</th>\n",
       "      <td>1</td>\n",
       "      <td>44</td>\n",
       "      <td>12.727273</td>\n",
       "      <td>6.333333</td>\n",
       "      <td>21.0</td>\n",
       "      <td>11.627095</td>\n",
       "      <td>0.134078</td>\n",
       "    </tr>\n",
       "    <tr>\n",
       "      <th>1</th>\n",
       "      <td>8</td>\n",
       "      <td>10</td>\n",
       "      <td>11.700000</td>\n",
       "      <td>12.800000</td>\n",
       "      <td>53.0</td>\n",
       "      <td>10.955263</td>\n",
       "      <td>0.100000</td>\n",
       "    </tr>\n",
       "    <tr>\n",
       "      <th>2</th>\n",
       "      <td>9</td>\n",
       "      <td>37</td>\n",
       "      <td>10.270270</td>\n",
       "      <td>11.500000</td>\n",
       "      <td>80.0</td>\n",
       "      <td>11.326772</td>\n",
       "      <td>0.122047</td>\n",
       "    </tr>\n",
       "    <tr>\n",
       "      <th>3</th>\n",
       "      <td>10</td>\n",
       "      <td>19</td>\n",
       "      <td>10.947368</td>\n",
       "      <td>12.100000</td>\n",
       "      <td>11.0</td>\n",
       "      <td>11.765047</td>\n",
       "      <td>0.109430</td>\n",
       "    </tr>\n",
       "    <tr>\n",
       "      <th>4</th>\n",
       "      <td>12</td>\n",
       "      <td>46</td>\n",
       "      <td>12.760870</td>\n",
       "      <td>13.230769</td>\n",
       "      <td>215.0</td>\n",
       "      <td>11.579545</td>\n",
       "      <td>0.130682</td>\n",
       "    </tr>\n",
       "    <tr>\n",
       "      <th>5</th>\n",
       "      <td>13</td>\n",
       "      <td>16</td>\n",
       "      <td>13.437500</td>\n",
       "      <td>12.333333</td>\n",
       "      <td>20.0</td>\n",
       "      <td>11.217484</td>\n",
       "      <td>0.102345</td>\n",
       "    </tr>\n",
       "    <tr>\n",
       "      <th>6</th>\n",
       "      <td>15</td>\n",
       "      <td>15</td>\n",
       "      <td>10.733333</td>\n",
       "      <td>6.000000</td>\n",
       "      <td>2.0</td>\n",
       "      <td>11.144444</td>\n",
       "      <td>0.111111</td>\n",
       "    </tr>\n",
       "    <tr>\n",
       "      <th>7</th>\n",
       "      <td>21</td>\n",
       "      <td>52</td>\n",
       "      <td>10.788462</td>\n",
       "      <td>10.000000</td>\n",
       "      <td>19.0</td>\n",
       "      <td>11.395623</td>\n",
       "      <td>0.097643</td>\n",
       "    </tr>\n",
       "    <tr>\n",
       "      <th>8</th>\n",
       "      <td>26</td>\n",
       "      <td>9</td>\n",
       "      <td>8.888889</td>\n",
       "      <td>17.000000</td>\n",
       "      <td>2.0</td>\n",
       "      <td>11.159091</td>\n",
       "      <td>0.103147</td>\n",
       "    </tr>\n",
       "    <tr>\n",
       "      <th>9</th>\n",
       "      <td>27</td>\n",
       "      <td>10</td>\n",
       "      <td>10.900000</td>\n",
       "      <td>10.500000</td>\n",
       "      <td>4.0</td>\n",
       "      <td>11.690000</td>\n",
       "      <td>0.070000</td>\n",
       "    </tr>\n",
       "  </tbody>\n",
       "</table>\n",
       "</div>"
      ],
      "text/plain": [
       "   userId  adCount    ad_hour   buy_hour  price   hit_hour     isHit\n",
       "0       1       44  12.727273   6.333333   21.0  11.627095  0.134078\n",
       "1       8       10  11.700000  12.800000   53.0  10.955263  0.100000\n",
       "2       9       37  10.270270  11.500000   80.0  11.326772  0.122047\n",
       "3      10       19  10.947368  12.100000   11.0  11.765047  0.109430\n",
       "4      12       46  12.760870  13.230769  215.0  11.579545  0.130682\n",
       "5      13       16  13.437500  12.333333   20.0  11.217484  0.102345\n",
       "6      15       15  10.733333   6.000000    2.0  11.144444  0.111111\n",
       "7      21       52  10.788462  10.000000   19.0  11.395623  0.097643\n",
       "8      26        9   8.888889  17.000000    2.0  11.159091  0.103147\n",
       "9      27       10  10.900000  10.500000    4.0  11.690000  0.070000"
      ]
     },
     "execution_count": 56,
     "metadata": {},
     "output_type": "execute_result"
    }
   ],
   "source": [
    "adBuyHitDF.head(n=10)"
   ]
  },
  {
   "cell_type": "markdown",
   "metadata": {},
   "source": [
    "<h1 style=\"font-family: Arial; font-size:1.5em;color:#2462C0\">Create the final training dataset</h1>"
   ]
  },
  {
   "cell_type": "code",
   "execution_count": 52,
   "metadata": {
    "collapsed": false
   },
   "outputs": [
    {
     "data": {
      "text/plain": [
       "(543, 6)"
      ]
     },
     "execution_count": 52,
     "metadata": {},
     "output_type": "execute_result"
    }
   ],
   "source": [
    "trainingDF = adBuyHitDF[['adCount','ad_hour','price', 'buy_hour', 'isHit', 'hit_hour']]\n",
    "trainingDF.shape"
   ]
  },
  {
   "cell_type": "code",
   "execution_count": 53,
   "metadata": {
    "collapsed": true
   },
   "outputs": [],
   "source": [
    "sqlContext = SQLContext(sc)\n",
    "pDF = sqlContext.createDataFrame(trainingDF)\n",
    "# ['adCount','ad_hour','price', 'buy_hour', 'isHit', 'hit_hour'\n",
    "parsedData = pDF.rdd.map(lambda line: array([line[0], line[1], line[2], line[3], line[4], line[5]])) "
   ]
  },
  {
   "cell_type": "markdown",
   "metadata": {},
   "source": [
    "<h1 style=\"font-family: Arial; font-size:1.5em;color:#2462C0\">Train KMeans model</h1>"
   ]
  },
  {
   "cell_type": "code",
   "execution_count": 54,
   "metadata": {
    "collapsed": false
   },
   "outputs": [
    {
     "name": "stderr",
     "output_type": "stream",
     "text": [
      "/usr/lib/spark/python/pyspark/mllib/clustering.py:176: UserWarning: Support for runs is deprecated in 1.6.0. This param will have no effect in 1.7.0.\n",
      "  \"Support for runs is deprecated in 1.6.0. This param will have no effect in 1.7.0.\")\n"
     ]
    }
   ],
   "source": [
    "my_kmmodel = KMeans.train(parsedData, 3, maxIterations=10, runs=10, initializationMode=\"random\")"
   ]
  },
  {
   "cell_type": "code",
   "execution_count": 55,
   "metadata": {
    "collapsed": false
   },
   "outputs": [
    {
     "name": "stdout",
     "output_type": "stream",
     "text": [
      "[array([ 34.13740458,  11.81431833,  64.29007634,  10.8114075 ,\n",
      "         0.11948593,  11.47731656]), array([ 26.08539945,  11.56683137,  16.47933884,  11.35156097,\n",
      "         0.11021882,  11.36533368]), array([  4.10000000e+01,   1.17641183e+01,   1.42102041e+02,\n",
      "         1.13862755e+01,   1.27581546e-01,   1.15061366e+01])]\n"
     ]
    }
   ],
   "source": [
    "print(my_kmmodel.centers)"
   ]
  },
  {
   "cell_type": "code",
   "execution_count": 57,
   "metadata": {
    "collapsed": false
   },
   "outputs": [
    {
     "data": {
      "text/plain": [
       "[array([ 34.13740458,  11.81431833,  64.29007634,  10.8114075 ,\n",
       "          0.11948593,  11.47731656]),\n",
       " array([ 26.08539945,  11.56683137,  16.47933884,  11.35156097,\n",
       "          0.11021882,  11.36533368]),\n",
       " array([  4.10000000e+01,   1.17641183e+01,   1.42102041e+02,\n",
       "          1.13862755e+01,   1.27581546e-01,   1.15061366e+01])]"
      ]
     },
     "execution_count": 57,
     "metadata": {},
     "output_type": "execute_result"
    }
   ],
   "source": [
    "my_kmmodel.centers"
   ]
  },
  {
   "cell_type": "code",
   "execution_count": 60,
   "metadata": {
    "collapsed": false
   },
   "outputs": [
    {
     "data": {
      "text/html": [
       "<div>\n",
       "<table border=\"1\" class=\"dataframe\">\n",
       "  <thead>\n",
       "    <tr style=\"text-align: right;\">\n",
       "      <th></th>\n",
       "      <th>adCount</th>\n",
       "      <th>ad_hour</th>\n",
       "      <th>price</th>\n",
       "      <th>buy_hour</th>\n",
       "      <th>isHit</th>\n",
       "      <th>hit_hour</th>\n",
       "    </tr>\n",
       "  </thead>\n",
       "  <tbody>\n",
       "    <tr>\n",
       "      <th>count</th>\n",
       "      <td>543.000000</td>\n",
       "      <td>543.000000</td>\n",
       "      <td>543.000000</td>\n",
       "      <td>543.000000</td>\n",
       "      <td>543.000000</td>\n",
       "      <td>543.000000</td>\n",
       "    </tr>\n",
       "    <tr>\n",
       "      <th>mean</th>\n",
       "      <td>29.373849</td>\n",
       "      <td>11.644341</td>\n",
       "      <td>39.349908</td>\n",
       "      <td>11.224380</td>\n",
       "      <td>0.114021</td>\n",
       "      <td>11.405056</td>\n",
       "    </tr>\n",
       "    <tr>\n",
       "      <th>std</th>\n",
       "      <td>15.216343</td>\n",
       "      <td>1.751375</td>\n",
       "      <td>41.221737</td>\n",
       "      <td>3.899722</td>\n",
       "      <td>0.017304</td>\n",
       "      <td>0.624851</td>\n",
       "    </tr>\n",
       "    <tr>\n",
       "      <th>min</th>\n",
       "      <td>1.000000</td>\n",
       "      <td>3.250000</td>\n",
       "      <td>1.000000</td>\n",
       "      <td>0.000000</td>\n",
       "      <td>0.044534</td>\n",
       "      <td>4.882353</td>\n",
       "    </tr>\n",
       "    <tr>\n",
       "      <th>25%</th>\n",
       "      <td>16.000000</td>\n",
       "      <td>10.630952</td>\n",
       "      <td>10.000000</td>\n",
       "      <td>9.000000</td>\n",
       "      <td>0.103741</td>\n",
       "      <td>11.160032</td>\n",
       "    </tr>\n",
       "    <tr>\n",
       "      <th>50%</th>\n",
       "      <td>30.000000</td>\n",
       "      <td>11.658537</td>\n",
       "      <td>25.000000</td>\n",
       "      <td>11.000000</td>\n",
       "      <td>0.114234</td>\n",
       "      <td>11.456701</td>\n",
       "    </tr>\n",
       "    <tr>\n",
       "      <th>75%</th>\n",
       "      <td>42.000000</td>\n",
       "      <td>12.675821</td>\n",
       "      <td>55.000000</td>\n",
       "      <td>13.333333</td>\n",
       "      <td>0.124165</td>\n",
       "      <td>11.701136</td>\n",
       "    </tr>\n",
       "    <tr>\n",
       "      <th>max</th>\n",
       "      <td>67.000000</td>\n",
       "      <td>22.000000</td>\n",
       "      <td>223.000000</td>\n",
       "      <td>23.000000</td>\n",
       "      <td>0.176471</td>\n",
       "      <td>13.370968</td>\n",
       "    </tr>\n",
       "  </tbody>\n",
       "</table>\n",
       "</div>"
      ],
      "text/plain": [
       "          adCount     ad_hour       price    buy_hour       isHit    hit_hour\n",
       "count  543.000000  543.000000  543.000000  543.000000  543.000000  543.000000\n",
       "mean    29.373849   11.644341   39.349908   11.224380    0.114021   11.405056\n",
       "std     15.216343    1.751375   41.221737    3.899722    0.017304    0.624851\n",
       "min      1.000000    3.250000    1.000000    0.000000    0.044534    4.882353\n",
       "25%     16.000000   10.630952   10.000000    9.000000    0.103741   11.160032\n",
       "50%     30.000000   11.658537   25.000000   11.000000    0.114234   11.456701\n",
       "75%     42.000000   12.675821   55.000000   13.333333    0.124165   11.701136\n",
       "max     67.000000   22.000000  223.000000   23.000000    0.176471   13.370968"
      ]
     },
     "execution_count": 60,
     "metadata": {},
     "output_type": "execute_result"
    }
   ],
   "source": [
    "trainingDF.describe()"
   ]
  },
  {
   "cell_type": "code",
   "execution_count": null,
   "metadata": {
    "collapsed": true
   },
   "outputs": [],
   "source": []
  }
 ],
 "metadata": {
  "kernelspec": {
   "display_name": "Python 3",
   "language": "python",
   "name": "python3"
  },
  "language_info": {
   "codemirror_mode": {
    "name": "ipython",
    "version": 3
   },
   "file_extension": ".py",
   "mimetype": "text/x-python",
   "name": "python",
   "nbconvert_exporter": "python",
   "pygments_lexer": "ipython3",
   "version": "3.5.1"
  }
 },
 "nbformat": 4,
 "nbformat_minor": 0
}
