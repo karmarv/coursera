{
 "cells": [
  {
   "cell_type": "code",
   "execution_count": 1,
   "metadata": {
    "collapsed": false
   },
   "outputs": [],
   "source": [
    "# Import and create a new SQLContext \n",
    "from pyspark.sql import SQLContext\n",
    "sqlContext = SQLContext(sc)"
   ]
  },
  {
   "cell_type": "code",
   "execution_count": 2,
   "metadata": {
    "collapsed": false
   },
   "outputs": [],
   "source": [
    "# Read the country CSV file into an RDD.\n",
    "country_lines = sc.textFile('file:///home/cloudera/workspace/coursera/big-data-3/final-project/country-list.csv')"
   ]
  },
  {
   "cell_type": "code",
   "execution_count": 3,
   "metadata": {
    "collapsed": false
   },
   "outputs": [
    {
     "data": {
      "text/plain": [
       "[['Afghanistan', 'AFG'], ['Albania', 'ALB']]"
      ]
     },
     "execution_count": 3,
     "metadata": {},
     "output_type": "execute_result"
    }
   ],
   "source": [
    "# Convert each line into a pair of words\n",
    "words = country_lines.flatMap(lambda line : [line.split(\", \")])\n",
    "words.take(2)"
   ]
  },
  {
   "cell_type": "code",
   "execution_count": 4,
   "metadata": {
    "collapsed": false
   },
   "outputs": [
    {
     "data": {
      "text/plain": [
       "[('Afghanistan', 'AFG'), ('Albania', 'ALB')]"
      ]
     },
     "execution_count": 4,
     "metadata": {},
     "output_type": "execute_result"
    }
   ],
   "source": [
    "# Convert each pair of words into a tuple\n",
    "country_tuples = words.map(lambda word : (word[0], word[1]))\n",
    "country_tuples.take(2)"
   ]
  },
  {
   "cell_type": "code",
   "execution_count": 5,
   "metadata": {
    "collapsed": false
   },
   "outputs": [
    {
     "name": "stdout",
     "output_type": "stream",
     "text": [
      "root\n",
      " |-- country: string (nullable = true)\n",
      " |-- code: string (nullable = true)\n",
      "\n"
     ]
    },
    {
     "data": {
      "text/plain": [
       "[Row(country='Afghanistan', code='AFG'),\n",
       " Row(country='Albania', code='ALB'),\n",
       " Row(country='Algeria', code='ALG')]"
      ]
     },
     "execution_count": 5,
     "metadata": {},
     "output_type": "execute_result"
    }
   ],
   "source": [
    "# Create the DataFrame, look at schema and contents\n",
    "countryDF = sqlContext.createDataFrame(country_tuples, [\"country\", \"code\"])\n",
    "countryDF.printSchema()\n",
    "countryDF.take(3)"
   ]
  },
  {
   "cell_type": "code",
   "execution_count": 28,
   "metadata": {
    "collapsed": false
   },
   "outputs": [
    {
     "data": {
      "text/plain": [
       "['tweet_text',\n",
       " 'RT @ochocinco: I beat them all for 10 straight hours #FIFA16KING  https://t.co/BFnV6jfkBL']"
      ]
     },
     "execution_count": 28,
     "metadata": {},
     "output_type": "execute_result"
    }
   ],
   "source": [
    "# Read tweets CSV file into RDD of lines\n",
    "tweet_lines = sc.textFile('file:///home/cloudera/workspace/coursera/big-data-3/mongodb/sample_user_tweet_text.csv')\n",
    "tweet_lines = tweet_lines.flatMap(lambda line : line.split(\",\"))\n",
    "tweet_lines.take(2)"
   ]
  },
  {
   "cell_type": "code",
   "execution_count": 29,
   "metadata": {
    "collapsed": false
   },
   "outputs": [],
   "source": [
    "# Clean the data: some tweets are empty. Remove the empty tweets using filter() \n",
    "tweet_lines = tweet_lines.filter(lambda line: len(line) > 0)"
   ]
  },
  {
   "cell_type": "code",
   "execution_count": 30,
   "metadata": {
    "collapsed": false
   },
   "outputs": [
    {
     "data": {
      "text/plain": [
       "['tweet_text',\n",
       " 'RT @ochocinco: I beat them all for 10 straight hours #FIFA16KING  https://t.co/BFnV6jfkBL',\n",
       " 'RT @NiallOfficial: @Louis_Tomlinson @socceraid when I retired from playing because of my knee . I went and did my uefa A badges in Dublin']"
      ]
     },
     "execution_count": 30,
     "metadata": {},
     "output_type": "execute_result"
    }
   ],
   "source": [
    "tweet_lines.take(3)"
   ]
  },
  {
   "cell_type": "code",
   "execution_count": 33,
   "metadata": {
    "collapsed": false
   },
   "outputs": [
    {
     "data": {
      "text/plain": [
       "[('tweet_text', 1),\n",
       " ('RT', 1),\n",
       " ('@ochocinco:', 1),\n",
       " ('I', 1),\n",
       " ('beat', 1),\n",
       " ('them', 1),\n",
       " ('all', 1),\n",
       " ('for', 1),\n",
       " ('10', 1),\n",
       " ('straight', 1),\n",
       " ('hours', 1),\n",
       " ('#FIFA16KING', 1),\n",
       " ('https://t.co/BFnV6jfkBL', 1),\n",
       " ('RT', 1),\n",
       " ('@NiallOfficial:', 1)]"
      ]
     },
     "execution_count": 33,
     "metadata": {},
     "output_type": "execute_result"
    }
   ],
   "source": [
    "# Perform WordCount on the cleaned tweet texts. (note: this is several lines.)\n",
    "words = tweet_lines.flatMap(lambda line : line.split(\" \")).filter(lambda line: len(line) > 0)\n",
    "tuples = words.map(lambda word : (word, 1))\n",
    "tuples.take(15)"
   ]
  },
  {
   "cell_type": "code",
   "execution_count": 34,
   "metadata": {
    "collapsed": false
   },
   "outputs": [],
   "source": [
    "tweet_counts = tuples.reduceByKey(lambda a, b: (a + b))\n",
    "tweet_counts.coalesce(1).saveAsTextFile('hdfs:/user/cloudera/wordcount/outputDir4')"
   ]
  },
  {
   "cell_type": "code",
   "execution_count": 35,
   "metadata": {
    "collapsed": false
   },
   "outputs": [
    {
     "data": {
      "text/plain": [
       "26121"
      ]
     },
     "execution_count": 35,
     "metadata": {},
     "output_type": "execute_result"
    }
   ],
   "source": [
    "tweet_counts.count()"
   ]
  },
  {
   "cell_type": "code",
   "execution_count": 37,
   "metadata": {
    "collapsed": false
   },
   "outputs": [
    {
     "data": {
      "text/plain": [
       "[('https://t.co/fQftAwGAad', 1),\n",
       " ('nite', 2),\n",
       " ('mobile', 1),\n",
       " ('#FridayNightTouchdown', 1),\n",
       " ('circle', 7)]"
      ]
     },
     "execution_count": 37,
     "metadata": {},
     "output_type": "execute_result"
    }
   ],
   "source": [
    "tweet_counts.take(5)"
   ]
  },
  {
   "cell_type": "code",
   "execution_count": 40,
   "metadata": {
    "collapsed": false
   },
   "outputs": [
    {
     "data": {
      "text/plain": [
       "[Row(word='https://t.co/fQftAwGAad', count=1),\n",
       " Row(word='nite', count=2),\n",
       " Row(word='mobile', count=1)]"
      ]
     },
     "execution_count": 40,
     "metadata": {},
     "output_type": "execute_result"
    }
   ],
   "source": [
    "# Create the DataFrame of tweet word counts\n",
    "tweetsDF = sqlContext.createDataFrame(counts, [\"word\", \"count\"])\n",
    "tweetsDF.take(3)"
   ]
  },
  {
   "cell_type": "code",
   "execution_count": 43,
   "metadata": {
    "collapsed": false
   },
   "outputs": [
    {
     "name": "stdout",
     "output_type": "stream",
     "text": [
      "+-----------+----+-----------+-----+\n",
      "|    country|code|       word|count|\n",
      "+-----------+----+-----------+-----+\n",
      "|   Thailand| THA|   Thailand|    1|\n",
      "|    Iceland| ISL|    Iceland|    2|\n",
      "|     Mexico| MEX|     Mexico|    1|\n",
      "|      Wales| WAL|      Wales|   19|\n",
      "|    Denmark| DEN|    Denmark|    1|\n",
      "|      India| IND|      India|    4|\n",
      "|   Portugal| POR|   Portugal|    9|\n",
      "|     Poland| POL|     Poland|    1|\n",
      "|     Norway| NOR|     Norway|   52|\n",
      "|     Guinea| GUI|     Guinea|    8|\n",
      "|   Slovakia| SVK|   Slovakia|   30|\n",
      "|     Canada| CAN|     Canada|   12|\n",
      "|    Bahamas| BAH|    Bahamas|    1|\n",
      "|Netherlands| NED|Netherlands|   13|\n",
      "|    Belgium| BEL|    Belgium|    1|\n",
      "|      Kenya| KEN|      Kenya|    3|\n",
      "|       Oman| OMA|       Oman|    1|\n",
      "|      Qatar| QAT|      Qatar|    4|\n",
      "|     Brazil| BRA|     Brazil|   13|\n",
      "|    England| ENG|    England|   30|\n",
      "+-----------+----+-----------+-----+\n",
      "only showing top 20 rows\n",
      "\n"
     ]
    }
   ],
   "source": [
    "# Join the country and tweet DataFrames (on the appropriate column)\n",
    "merge = countryDF.join(tweetsDF, countryDF.country == tweetsDF.word, 'inner')\n",
    "merge.show()"
   ]
  },
  {
   "cell_type": "code",
   "execution_count": 44,
   "metadata": {
    "collapsed": false
   },
   "outputs": [
    {
     "data": {
      "text/plain": [
       "46"
      ]
     },
     "execution_count": 44,
     "metadata": {},
     "output_type": "execute_result"
    }
   ],
   "source": [
    "# Question 1: number of distinct countries mentioned\n",
    "merge.count()"
   ]
  },
  {
   "cell_type": "code",
   "execution_count": 46,
   "metadata": {
    "collapsed": false
   },
   "outputs": [
    {
     "name": "stdout",
     "output_type": "stream",
     "text": [
      "+----------+\n",
      "|sum(count)|\n",
      "+----------+\n",
      "|       420|\n",
      "+----------+\n",
      "\n"
     ]
    }
   ],
   "source": [
    "# Question 2: number of countries mentioned in tweets.\n",
    "from pyspark.sql.functions import sum\n",
    "merge.agg({'count':'sum'}).show()"
   ]
  },
  {
   "cell_type": "code",
   "execution_count": 47,
   "metadata": {
    "collapsed": false
   },
   "outputs": [
    {
     "name": "stdout",
     "output_type": "stream",
     "text": [
      "+-----------+----+-----------+-----+\n",
      "|    country|code|       word|count|\n",
      "+-----------+----+-----------+-----+\n",
      "|    Nigeria| NGA|    Nigeria|   55|\n",
      "|     Norway| NOR|     Norway|   52|\n",
      "|     France| FRA|     France|   45|\n",
      "|   Slovakia| SVK|   Slovakia|   30|\n",
      "|    England| ENG|    England|   30|\n",
      "|    Germany| GER|    Germany|   20|\n",
      "|      Wales| WAL|      Wales|   19|\n",
      "|     Russia| RUS|     Russia|   16|\n",
      "|     Brazil| BRA|     Brazil|   13|\n",
      "|Netherlands| NED|Netherlands|   13|\n",
      "|     Canada| CAN|     Canada|   12|\n",
      "|      Spain| ESP|      Spain|   11|\n",
      "|Switzerland| SUI|Switzerland|   10|\n",
      "|       Chad| CHA|       Chad|    9|\n",
      "|   Portugal| POR|   Portugal|    9|\n",
      "|     Guinea| GUI|     Guinea|    8|\n",
      "|     Jordan| JOR|     Jordan|    6|\n",
      "|       Iraq| IRQ|       Iraq|    6|\n",
      "|      Japan| JPN|      Japan|    5|\n",
      "|    Austria| AUT|    Austria|    5|\n",
      "+-----------+----+-----------+-----+\n",
      "only showing top 20 rows\n",
      "\n"
     ]
    }
   ],
   "source": [
    "# Table 1: top three countries and their counts.\n",
    "from pyspark.sql.functions import desc\n",
    "merge.sort(['count'],ascending = False).show()"
   ]
  },
  {
   "cell_type": "code",
   "execution_count": 48,
   "metadata": {
    "collapsed": false
   },
   "outputs": [
    {
     "name": "stdout",
     "output_type": "stream",
     "text": [
      "+-------+----+-------+-----+\n",
      "|country|code|   word|count|\n",
      "+-------+----+-------+-----+\n",
      "|Iceland| ISL|Iceland|    2|\n",
      "|  Wales| WAL|  Wales|   19|\n",
      "|  Japan| JPN|  Japan|    5|\n",
      "+-------+----+-------+-----+\n",
      "\n"
     ]
    }
   ],
   "source": [
    "# Table 2: counts for Wales, Iceland, and Japan.\n",
    "li=[\"Wales\",\"Iceland\",\"Japan\"]\n",
    "merge.filter(merge.country.isin(li)).show()"
   ]
  },
  {
   "cell_type": "code",
   "execution_count": null,
   "metadata": {
    "collapsed": true
   },
   "outputs": [],
   "source": []
  }
 ],
 "metadata": {
  "kernelspec": {
   "display_name": "Python 3",
   "language": "python",
   "name": "python3"
  },
  "language_info": {
   "codemirror_mode": {
    "name": "ipython",
    "version": 3
   },
   "file_extension": ".py",
   "mimetype": "text/x-python",
   "name": "python",
   "nbconvert_exporter": "python",
   "pygments_lexer": "ipython3",
   "version": "3.5.1"
  }
 },
 "nbformat": 4,
 "nbformat_minor": 0
}
