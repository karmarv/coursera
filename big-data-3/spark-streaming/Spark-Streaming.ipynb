{
 "cells": [
  {
   "cell_type": "code",
   "execution_count": 1,
   "metadata": {
    "collapsed": true
   },
   "outputs": [],
   "source": [
    "# Example weather station data\n",
    "#\n",
    "# 1419408015\t0R1,Dn=059D,Dm=066D,Dx=080D,Sn=8.5M,Sm=9.5M,Sx=10.3M\n",
    "# 1419408016\t0R1,Dn=059D,Dm=065D,Dx=078D,Sn=8.5M,Sm=9.5M,Sx=10.3M\n",
    "# 1419408016\t0R2,Ta=13.9C,Ua=28.5P,Pa=889.9H\n",
    "# 1419408017\t0R1,Dn=059D,Dm=064D,Dx=075D,Sn=8.7M,Sm=9.6M,Sx=10.3M\n",
    "# 1419408018\t0R1,Dn=059D,Dm=064D,Dx=075D,Sn=8.9M,Sm=9.6M,Sx=10.3M\n",
    "# 1419408019\t0R1,Dn=059D,Dm=065D,Dx=075D,Sn=8.8M,Sm=9.5M,Sx=10.3M"
   ]
  },
  {
   "cell_type": "code",
   "execution_count": 2,
   "metadata": {
    "collapsed": true
   },
   "outputs": [],
   "source": [
    "# Key for measurements:\n",
    "#\n",
    "# Sn      Wind speed minimum m/s, km/h, mph, knots #,M, K, S, N\n",
    "# Sm      Wind speed average m/s, km/h, mph, knots #,M, K, S, N\n",
    "# Sx      Wind speed maximum m/s, km/h, mph, knots #,M, K, S, N\n",
    "# Dn      Wind direction minimum deg #, D\n",
    "# Dm      Wind direction average deg #, D\n",
    "# Dx      Wind direction maximum deg #, D\n",
    "# Pa      Air pressure hPa, Pa, bar, mmHg, inHg #, H, P, B, M, I\n",
    "# Ta      Air temperature °C, °F #, C, F\n",
    "# Tp      Internal temperature °C, °F #, C, F\n",
    "# Ua      Relative humidity %RH #, P\n",
    "# Rc      Rain accumulation mm, in #, M, I\n",
    "# Rd      Rain duration s #, S\n",
    "# Ri      Rain intensity mm/h, in/h #, M, I\n",
    "# Rp      Rain peak intensity mm/h, in/h #, M, I\n",
    "# Hc      Hail accumulation hits/cm2, hits/in2, hits #, M, I, H\n",
    "# Hd      Hail duration s #, S\n",
    "# Hi      Hail intensity hits/cm2h, hits/in2h, hits/ h #, M, I, H\n",
    "# Hp      Hail peak intensity hits/cm2h, hits/in2h, hits/ h #, M, I, H\n",
    "# Th      Heating temperature °C, °F #, C, F\n",
    "# Vh      Heating voltage V #, N, V, W, F2\n",
    "# Vs      Supply voltage V V\n",
    "# Vr      3.5 V ref. voltage V V"
   ]
  },
  {
   "cell_type": "code",
   "execution_count": 3,
   "metadata": {
    "collapsed": true
   },
   "outputs": [],
   "source": [
    "# Parse a line of weather station data, returning the average wind direction measurement \n",
    "#\n",
    "import re\n",
    "def parse(line):\n",
    "    match = re.search(\"Dm=(\\d+)\", line)\n",
    "    if match:\n",
    "        val = match.group(1)\n",
    "        return [int(val)]\n",
    "    return []"
   ]
  },
  {
   "cell_type": "code",
   "execution_count": 4,
   "metadata": {
    "collapsed": true
   },
   "outputs": [],
   "source": [
    "from pyspark.streaming import StreamingContext\n",
    "ssc = StreamingContext(sc,1)"
   ]
  },
  {
   "cell_type": "code",
   "execution_count": 6,
   "metadata": {
    "collapsed": false
   },
   "outputs": [],
   "source": [
    "lines = ssc.socketTextStream(\"rtd.hpwren.ucsd.edu\",12028)"
   ]
  },
  {
   "cell_type": "code",
   "execution_count": 7,
   "metadata": {
    "collapsed": true
   },
   "outputs": [],
   "source": [
    "vals = lines.flatMap(parse)"
   ]
  },
  {
   "cell_type": "code",
   "execution_count": 8,
   "metadata": {
    "collapsed": true
   },
   "outputs": [],
   "source": [
    "window = vals.window(10,5)"
   ]
  },
  {
   "cell_type": "code",
   "execution_count": 9,
   "metadata": {
    "collapsed": true
   },
   "outputs": [],
   "source": [
    "def stats(rdd):\n",
    "    print(rdd.collect())\n",
    "    if rdd.count() > 0:\n",
    "        print(\"max = {}, min = {}\".format(rdd.max(),rdd.min()))\n"
   ]
  },
  {
   "cell_type": "code",
   "execution_count": 10,
   "metadata": {
    "collapsed": true
   },
   "outputs": [],
   "source": [
    "window.foreachRDD(lambda rdd: stats(rdd))"
   ]
  },
  {
   "cell_type": "code",
   "execution_count": 11,
   "metadata": {
    "collapsed": false
   },
   "outputs": [
    {
     "name": "stdout",
     "output_type": "stream",
     "text": [
      "[]\n",
      "[151, 154, 157, 155, 153]\n",
      "max = 157, min = 151\n",
      "[151, 154, 157, 155, 153, 154, 163, 185, 167, 162]\n",
      "max = 185, min = 151\n",
      "[154, 163, 185, 167, 162, 162, 167, 172, 184, 190]\n",
      "max = 190, min = 154\n",
      "[162, 167, 172, 184, 190, 194, 196, 179, 186, 186, 179]\n",
      "max = 196, min = 162\n",
      "[194, 196, 179, 186, 186, 179, 185, 181, 177, 171, 170]\n",
      "max = 196, min = 170\n",
      "[185, 181, 177, 171, 170, 170, 170, 170, 170, 178]\n",
      "max = 185, min = 170\n",
      "[170, 170, 170, 170, 178, 167, 166, 166, 166, 167]\n",
      "max = 178, min = 166\n",
      "[167, 166, 166, 166, 167, 167, 161, 172, 183, 184]\n",
      "max = 184, min = 161\n",
      "[167, 161, 172, 183, 184, 187, 196, 199, 198, 207]\n",
      "max = 207, min = 161\n",
      "[187, 196, 199, 198, 207, 224, 233, 233, 221, 213]\n",
      "max = 233, min = 187\n",
      "[224, 233, 233, 221, 213, 216, 220, 234, 252, 260]\n",
      "max = 260, min = 213\n",
      "[216, 220, 234, 252, 260, 260, 257, 256, 259, 258]\n",
      "max = 260, min = 216\n",
      "[260, 257, 256, 259, 258, 257, 248, 240, 223, 206]\n",
      "max = 260, min = 206\n",
      "[257, 248, 240, 223, 206, 189, 183, 175, 172, 172]\n",
      "max = 257, min = 172\n",
      "[189, 183, 175, 172, 172, 172, 168, 159, 159, 159]\n",
      "max = 189, min = 159\n",
      "[172, 168, 159, 159, 159, 159, 159, 159, 165, 165, 165]\n",
      "max = 172, min = 159\n",
      "[159, 159, 159, 165, 165, 165, 165, 169, 173, 173, 181]\n",
      "max = 181, min = 159\n",
      "[165, 169, 173, 173, 181, 194, 193, 191, 194, 193]\n",
      "max = 194, min = 165\n",
      "[194, 193, 191, 194, 193, 200, 194, 189, 189, 178]\n",
      "max = 200, min = 178\n",
      "[200, 194, 189, 189, 178, 175, 176, 177, 186, 199]\n",
      "max = 200, min = 175\n",
      "[175, 176, 177, 186, 199, 188, 195, 200, 204, 211]\n",
      "max = 211, min = 175\n",
      "[188, 195, 200, 204, 211, 207, 207, 216, 207, 195]\n",
      "max = 216, min = 188\n",
      "[207, 207, 216, 207, 195, 195, 198, 201, 200, 196]\n",
      "max = 216, min = 195\n",
      "[195, 198, 201, 200, 196, 203, 208, 208, 207, 215]\n",
      "max = 215, min = 195\n",
      "[203, 208, 208, 207, 215, 219, 219, 216, 210, 214]\n"
     ]
    }
   ],
   "source": [
    "ssc.start()"
   ]
  },
  {
   "cell_type": "code",
   "execution_count": 12,
   "metadata": {
    "collapsed": true
   },
   "outputs": [],
   "source": [
    "ssc.stop()"
   ]
  },
  {
   "cell_type": "code",
   "execution_count": null,
   "metadata": {
    "collapsed": true
   },
   "outputs": [],
   "source": []
  }
 ],
 "metadata": {
  "kernelspec": {
   "display_name": "Python 3",
   "language": "python",
   "name": "python3"
  },
  "language_info": {
   "codemirror_mode": {
    "name": "ipython",
    "version": 3
   },
   "file_extension": ".py",
   "mimetype": "text/x-python",
   "name": "python",
   "nbconvert_exporter": "python",
   "pygments_lexer": "ipython3",
   "version": "3.5.1"
  }
 },
 "nbformat": 4,
 "nbformat_minor": 0
}
